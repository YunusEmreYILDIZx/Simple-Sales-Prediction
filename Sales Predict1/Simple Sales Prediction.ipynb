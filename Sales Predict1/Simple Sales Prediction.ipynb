{
 "cells": [
  {
   "cell_type": "code",
   "execution_count": 3,
   "id": "5ce3d0c0",
   "metadata": {},
   "outputs": [],
   "source": [
    "import pandas as pd\n",
    "import numpy as np\n",
    "import seaborn as sb\n",
    "import matplotlib.pyplot as plt\n",
    "import seaborn as sns\n",
    "\n",
    "from sklearn.linear_model import LinearRegression\n",
    "from sklearn.metrics import mean_squared_error, mean_absolute_error\n",
    "from sklearn.model_selection import train_test_split, cross_val_score"
   ]
  },
  {
   "cell_type": "code",
   "execution_count": 4,
   "id": "29cb671a",
   "metadata": {},
   "outputs": [],
   "source": [
    "pd.set_option('display.float_format', lambda x: \"%.2f\" % x)"
   ]
  },
  {
   "cell_type": "code",
   "execution_count": 5,
   "id": "5704d698",
   "metadata": {},
   "outputs": [],
   "source": [
    "dataset=pd.read_csv(\"advertising.csv\")"
   ]
  },
  {
   "cell_type": "code",
   "execution_count": 6,
   "id": "b3a7a41e",
   "metadata": {},
   "outputs": [
    {
     "data": {
      "text/html": [
       "<div>\n",
       "<style scoped>\n",
       "    .dataframe tbody tr th:only-of-type {\n",
       "        vertical-align: middle;\n",
       "    }\n",
       "\n",
       "    .dataframe tbody tr th {\n",
       "        vertical-align: top;\n",
       "    }\n",
       "\n",
       "    .dataframe thead th {\n",
       "        text-align: right;\n",
       "    }\n",
       "</style>\n",
       "<table border=\"1\" class=\"dataframe\">\n",
       "  <thead>\n",
       "    <tr style=\"text-align: right;\">\n",
       "      <th></th>\n",
       "      <th>TV</th>\n",
       "      <th>radio</th>\n",
       "      <th>newspaper</th>\n",
       "      <th>sales</th>\n",
       "    </tr>\n",
       "  </thead>\n",
       "  <tbody>\n",
       "    <tr>\n",
       "      <th>0</th>\n",
       "      <td>230.10</td>\n",
       "      <td>37.80</td>\n",
       "      <td>69.20</td>\n",
       "      <td>22.10</td>\n",
       "    </tr>\n",
       "    <tr>\n",
       "      <th>1</th>\n",
       "      <td>44.50</td>\n",
       "      <td>39.30</td>\n",
       "      <td>45.10</td>\n",
       "      <td>10.40</td>\n",
       "    </tr>\n",
       "    <tr>\n",
       "      <th>2</th>\n",
       "      <td>17.20</td>\n",
       "      <td>45.90</td>\n",
       "      <td>69.30</td>\n",
       "      <td>9.30</td>\n",
       "    </tr>\n",
       "    <tr>\n",
       "      <th>3</th>\n",
       "      <td>151.50</td>\n",
       "      <td>41.30</td>\n",
       "      <td>58.50</td>\n",
       "      <td>18.50</td>\n",
       "    </tr>\n",
       "    <tr>\n",
       "      <th>4</th>\n",
       "      <td>180.80</td>\n",
       "      <td>10.80</td>\n",
       "      <td>58.40</td>\n",
       "      <td>12.90</td>\n",
       "    </tr>\n",
       "  </tbody>\n",
       "</table>\n",
       "</div>"
      ],
      "text/plain": [
       "      TV  radio  newspaper  sales\n",
       "0 230.10  37.80      69.20  22.10\n",
       "1  44.50  39.30      45.10  10.40\n",
       "2  17.20  45.90      69.30   9.30\n",
       "3 151.50  41.30      58.50  18.50\n",
       "4 180.80  10.80      58.40  12.90"
      ]
     },
     "execution_count": 6,
     "metadata": {},
     "output_type": "execute_result"
    }
   ],
   "source": [
    "dataset.head()"
   ]
  },
  {
   "cell_type": "code",
   "execution_count": 7,
   "id": "5a34a251",
   "metadata": {},
   "outputs": [],
   "source": [
    "x=dataset[[\"radio\"]]\n",
    "y=dataset[[\"sales\"]]"
   ]
  },
  {
   "cell_type": "code",
   "execution_count": 8,
   "id": "bf5a0796",
   "metadata": {},
   "outputs": [],
   "source": [
    "model=LinearRegression().fit(x,y)"
   ]
  },
  {
   "cell_type": "code",
   "execution_count": 9,
   "id": "3a6a75d8",
   "metadata": {},
   "outputs": [],
   "source": [
    "### y_hat= b+w*x ###"
   ]
  },
  {
   "cell_type": "code",
   "execution_count": 11,
   "id": "7d306d48",
   "metadata": {},
   "outputs": [
    {
     "data": {
      "text/plain": [
       "9.311638095158283"
      ]
     },
     "execution_count": 11,
     "metadata": {},
     "output_type": "execute_result"
    }
   ],
   "source": [
    "# sabit (b-bias)\n",
    "model.intercept_[0]\n"
   ]
  },
  {
   "cell_type": "code",
   "execution_count": 12,
   "id": "49461efc",
   "metadata": {},
   "outputs": [
    {
     "data": {
      "text/plain": [
       "0.20249578339243968"
      ]
     },
     "execution_count": 12,
     "metadata": {},
     "output_type": "execute_result"
    }
   ],
   "source": [
    "# radio katsayısı (w1)\n",
    "model.coef_[0][0]\n"
   ]
  },
  {
   "cell_type": "code",
   "execution_count": 13,
   "id": "2013cee2",
   "metadata": {},
   "outputs": [],
   "source": [
    "# 200 birimlik radio harcaması olursa ne kadar satış olur?"
   ]
  },
  {
   "cell_type": "code",
   "execution_count": null,
   "id": "2bc7d0ea",
   "metadata": {},
   "outputs": [],
   "source": [
    "# Tahmin #"
   ]
  },
  {
   "cell_type": "code",
   "execution_count": 14,
   "id": "dad9d3df",
   "metadata": {},
   "outputs": [
    {
     "data": {
      "text/plain": [
       "49.81079477364622"
      ]
     },
     "execution_count": 14,
     "metadata": {},
     "output_type": "execute_result"
    }
   ],
   "source": [
    "model.intercept_[0]+model.coef_[0][0]*200"
   ]
  },
  {
   "cell_type": "code",
   "execution_count": 15,
   "id": "4040ebb7",
   "metadata": {},
   "outputs": [],
   "source": [
    "# Modelin Görselleştirilmesi"
   ]
  },
  {
   "cell_type": "code",
   "execution_count": 32,
   "id": "91152b02",
   "metadata": {},
   "outputs": [
    {
     "data": {
      "image/png": "[encoded data removed]",
      "text/plain": [
       "<Figure size 640x480 with 1 Axes>"
      ]
     },
     "metadata": {},
     "output_type": "display_data"
    }
   ],
   "source": [
    "g=sns.regplot(x=x, y=y, scatter_kws={\"color\" : \"b\", \"s\" : 9},\n",
    "             ci=False, color=\"r\")\n",
    "\n",
    "g.set_title(f\"Model Denklemi: Sales= {round(model.intercept_[0], 2)} + Radio*{round(model.coef_[0][0], 2)}\")\n",
    "g.set_ylabel(\"Satış Saysısı\")\n",
    "g.set_xlabel(\"Radio Harcamaları\")\n",
    "plt.xlim(-5, 55)\n",
    "plt.ylim(bottom=0)\n",
    "plt.show()\n"
   ]
  },
  {
   "cell_type": "code",
   "execution_count": 33,
   "id": "12864d65",
   "metadata": {},
   "outputs": [
    {
     "data": {
      "text/plain": [
       "sales   5.22\n",
       "dtype: float64"
      ]
     },
     "execution_count": 33,
     "metadata": {},
     "output_type": "execute_result"
    }
   ],
   "source": [
    "# MSE\n",
    "y_pred= model.predict(x)\n",
    "mean_squared_error(y, y_pred)\n",
    "y.mean()\n",
    "y.std()"
   ]
  },
  {
   "cell_type": "code",
   "execution_count": 34,
   "id": "ec265ca5",
   "metadata": {},
   "outputs": [
    {
     "data": {
      "text/plain": [
       "4.2535159274564185"
      ]
     },
     "execution_count": 34,
     "metadata": {},
     "output_type": "execute_result"
    }
   ],
   "source": [
    "# RMSE\n",
    "np.sqrt(mean_squared_error(y, y_pred))"
   ]
  },
  {
   "cell_type": "code",
   "execution_count": 35,
   "id": "581d11fe",
   "metadata": {},
   "outputs": [
    {
     "data": {
      "text/plain": [
       "3.3202187976420667"
      ]
     },
     "execution_count": 35,
     "metadata": {},
     "output_type": "execute_result"
    }
   ],
   "source": [
    "# MAE\n",
    "mean_absolute_error(y, y_pred)"
   ]
  },
  {
   "cell_type": "code",
   "execution_count": null,
   "id": "28957612",
   "metadata": {},
   "outputs": [],
   "source": []
  }
 ],
 "metadata": {
  "kernelspec": {
   "display_name": "Python 3 (ipykernel)",
   "language": "python",
   "name": "python3"
  },
  "language_info": {
   "codemirror_mode": {
    "name": "ipython",
    "version": 3
   },
   "file_extension": ".py",
   "mimetype": "text/x-python",
   "name": "python",
   "nbconvert_exporter": "python",
   "pygments_lexer": "ipython3",
   "version": "3.10.9"
  }
 },
 "nbformat": 4,
 "nbformat_minor": 5
}
